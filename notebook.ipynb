{
 "cells": [
  {
   "cell_type": "code",
   "execution_count": 21,
   "metadata": {},
   "outputs": [
    {
     "output_type": "stream",
     "name": "stdout",
     "text": "Requirement already satisfied: lightgbm in /opt/conda/lib/python3.7/site-packages (2.3.1)\nRequirement already satisfied: numpy in /opt/conda/lib/python3.7/site-packages (from lightgbm) (1.18.4)\nRequirement already satisfied: scipy in /opt/conda/lib/python3.7/site-packages (from lightgbm) (1.4.1)\nRequirement already satisfied: scikit-learn in /opt/conda/lib/python3.7/site-packages (from lightgbm) (0.22.2.post1)\nRequirement already satisfied: joblib>=0.11 in /opt/conda/lib/python3.7/site-packages (from scikit-learn->lightgbm) (0.14.1)\n"
    }
   ],
   "source": [
    "!pip install lightgbm"
   ]
  },
  {
   "cell_type": "code",
   "execution_count": 22,
   "metadata": {},
   "outputs": [],
   "source": [
    "from sklearn import datasets\n",
    "import numpy as np\n",
    "import lightgbm as lgb\n",
    "\n",
    "from scipy.stats import spearmanr"
   ]
  },
  {
   "cell_type": "code",
   "execution_count": 23,
   "metadata": {},
   "outputs": [],
   "source": [
    "x_train, y_train = datasets.load_svmlight_file(\"mq2008.train\")\n",
    "x_valid, y_valid = datasets.load_svmlight_file(\"mq2008.vali\")\n",
    "x_test, y_test = datasets.load_svmlight_file(\"mq2008.test\")"
   ]
  },
  {
   "cell_type": "code",
   "execution_count": 24,
   "metadata": {},
   "outputs": [
    {
     "output_type": "execute_result",
     "data": {
      "text/plain": "<9630x46 sparse matrix of type '<class 'numpy.float64'>'\n\twith 233775 stored elements in Compressed Sparse Row format>"
     },
     "metadata": {},
     "execution_count": 24
    }
   ],
   "source": [
    "x_train"
   ]
  },
  {
   "cell_type": "code",
   "execution_count": 25,
   "metadata": {},
   "outputs": [
    {
     "output_type": "execute_result",
     "data": {
      "text/plain": "array([0., 0., 0., ..., 0., 0., 0.])"
     },
     "metadata": {},
     "execution_count": 25
    }
   ],
   "source": [
    "y_train"
   ]
  },
  {
   "cell_type": "code",
   "execution_count": 26,
   "metadata": {},
   "outputs": [
    {
     "output_type": "execute_result",
     "data": {
      "text/plain": "array([  8.,   8.,   8.,   8.,   8.,  16.,   8., 118.,  16.,   8.,   8.,\n         8.,   7.,   8.,  16.,   8.,  16.,   8.,  32.,   8.,   8.,   8.,\n        31.,   8.,   8.,  15.,   8.,  15.,   8.,  28.,   7.,  62.,   8.,\n         8.,  16.,  16.,   8.,   8.,  15.,   8., 118.,   8.,  16.,   8.,\n         8.,  16.,  16.,   8.,  16.,   8.,   8.,   8.,   8.,   8.,  16.,\n         8.,  30.,   8.,   8.,   8.,   8.,   8.,  28.,   8., 113.,   7.,\n        15.,  25.,   8.,  16.,   8.,  16.,  59.,   8.,   7.,   8.,  31.,\n        30.,  31.,  32.,   8.,   8.,  16.,   8.,  31.,  15.,  15.,  28.,\n        32.,   8.,  31.,  59.,   8.,   7.,  55.,   8.,   8.,   8.,  32.,\n         7.,   8.,  16.,  58.,   8.,  15.,  29.,   8.,  31.,   8.,   8.,\n        16.,   8.,   8.,   6.,   8.,  62.,   8.,   8.,  60.,   8.,   8.,\n         8.,   8.,   8.,   8.,   7.,   8.,  16.,  13.,   8.,   7.,   8.,\n         8.,   8.,   8., 114.,  15.,  31.,   8.,   7.,   8.,   8.,  29.,\n         7.,  25.,   8.,   8.,   8., 118.,   7.,   8.,  26.,   8.,   8.,\n        30.,  14., 118.,   8.,   8.,  16.,   6.,   8.,   8.,  63.,   7.,\n         8.,  30.,  61.,   8.,  13.,  32.,  14., 115.,  30.,   8.,   8.,\n        59.,  31.,   8.,   8.,  16.,   7.,   8.,   8.,  15.,  15.,  63.,\n        60.,   8.,   8.,   8.,  16.,  15.,  16.,   8., 116.,   8.,  16.,\n         8.,   8.,  29.,  16.,  15.,  16.,   8.,   8.,  31.,   8.,  57.,\n         5.,   8.,  16.,  26.,  59.,   8.,  14.,   8., 121.,  16.,  31.,\n         8.,   8.,  16.,   7.,   8.,   8.,   8.,  13., 119.,  15.,   8.,\n        29.,  60.,  46.,  16.,   8.,   7.,   8.,  59.,  15.,   8.,  14.,\n         8.,   8.,  16.,   8., 116.,  16.,   8.,   8.,  30.,  16.,  13.,\n        15.,  31.,  16.,  30.,  13.,   8.,   8.,  31.,   8., 116.,   8.,\n        16.,   8.,   8.,  16.,   8.,  31.,   8.,  15.,   7., 115.,  59.,\n         8.,   8.,  59.,  59.,   8.,  14.,  32.,   8.,   8.,   8.,  31.,\n        32.,   8.,   8.,   8.,   8.,   8.,  30.,  30., 118.,   8.,   8.,\n         7.,  31.,   6.,   8.,  26.,  14.,  16.,   8.,  29.,  16.,  58.,\n         8.,  15.,   8.,   8.,  58.,  16.,  16., 111.,   8.,   8.,  15.,\n        29.,  16.,  16.,   8.,  15.,   8.,  32.,   8.,  15.,   8.,   8.,\n        16.,   8.,   8.,  14.,   7.,   8.,  16.,  56.,   8.,  31.,  16.,\n        32.,  29.,  15.,  15.,   8.,  58.,   8.,  15.,   7.,   8.,   7.,\n         8.,  24.,   8.,  51.,  30.,   8.,  57.,   5.,   8.,   8.,   8.,\n         7.,  31.,  16.,   8.,   8.,  31.,  16.,  32.,  15.,   7.,   7.,\n        14.,  16.,  15.,  16.,   8.,  60.,   8.,  58.,  16.,  29.,   8.,\n        29.,  15.,   8.,   8.,  16.,   8.,   8.,   8., 117.,  16.,   8.,\n         8.,  30.,   8.,   7.,  60.,   6.,  16.,   8.,  61.,   8.,   8.,\n        16.,   8.,  16.,  32.,   8.,   8.,   8.,  29.,   8.,  31.,  16.,\n         8.,  15.,   8.,  15.,  15.,   7.,  16.,   7.,  29.,  16.,   8.,\n        14.,   7.,  11.,   7.,   6., 119.,   8.,   8.,   8.,  16.,   8.,\n        16.,   8.,   7.,  16.,  31.,  16.,   8.,  32.,  31.,  31., 113.,\n         8.,  16.,  15.,  15.,  16.,  16.,   8.,   8.,   8.,   8.,  32.,\n         8.,  61.,   7.,  14.,  16.,   8., 117.,  15.,   8.])"
     },
     "metadata": {},
     "execution_count": 26
    }
   ],
   "source": [
    "np.loadtxt('mq2008.train.group')"
   ]
  },
  {
   "cell_type": "code",
   "execution_count": 27,
   "metadata": {},
   "outputs": [],
   "source": [
    "q_train = np.loadtxt('mq2008.train.group')\n",
    "q_valid = np.loadtxt('mq2008.vali.group')\n",
    "q_test = np.loadtxt('mq2008.test.group')"
   ]
  },
  {
   "cell_type": "code",
   "execution_count": 28,
   "metadata": {},
   "outputs": [
    {
     "output_type": "execute_result",
     "data": {
      "text/plain": "array([  8.,   8.,   8.,   8.,   8.,  16.,   8., 118.,  16.,   8.,   8.,\n         8.,   7.,   8.,  16.,   8.,  16.,   8.,  32.,   8.,   8.,   8.,\n        31.,   8.,   8.,  15.,   8.,  15.,   8.,  28.,   7.,  62.,   8.,\n         8.,  16.,  16.,   8.,   8.,  15.,   8., 118.,   8.,  16.,   8.,\n         8.,  16.,  16.,   8.,  16.,   8.,   8.,   8.,   8.,   8.,  16.,\n         8.,  30.,   8.,   8.,   8.,   8.,   8.,  28.,   8., 113.,   7.,\n        15.,  25.,   8.,  16.,   8.,  16.,  59.,   8.,   7.,   8.,  31.,\n        30.,  31.,  32.,   8.,   8.,  16.,   8.,  31.,  15.,  15.,  28.,\n        32.,   8.,  31.,  59.,   8.,   7.,  55.,   8.,   8.,   8.,  32.,\n         7.,   8.,  16.,  58.,   8.,  15.,  29.,   8.,  31.,   8.,   8.,\n        16.,   8.,   8.,   6.,   8.,  62.,   8.,   8.,  60.,   8.,   8.,\n         8.,   8.,   8.,   8.,   7.,   8.,  16.,  13.,   8.,   7.,   8.,\n         8.,   8.,   8., 114.,  15.,  31.,   8.,   7.,   8.,   8.,  29.,\n         7.,  25.,   8.,   8.,   8., 118.,   7.,   8.,  26.,   8.,   8.,\n        30.,  14., 118.,   8.,   8.,  16.,   6.,   8.,   8.,  63.,   7.,\n         8.,  30.,  61.,   8.,  13.,  32.,  14., 115.,  30.,   8.,   8.,\n        59.,  31.,   8.,   8.,  16.,   7.,   8.,   8.,  15.,  15.,  63.,\n        60.,   8.,   8.,   8.,  16.,  15.,  16.,   8., 116.,   8.,  16.,\n         8.,   8.,  29.,  16.,  15.,  16.,   8.,   8.,  31.,   8.,  57.,\n         5.,   8.,  16.,  26.,  59.,   8.,  14.,   8., 121.,  16.,  31.,\n         8.,   8.,  16.,   7.,   8.,   8.,   8.,  13., 119.,  15.,   8.,\n        29.,  60.,  46.,  16.,   8.,   7.,   8.,  59.,  15.,   8.,  14.,\n         8.,   8.,  16.,   8., 116.,  16.,   8.,   8.,  30.,  16.,  13.,\n        15.,  31.,  16.,  30.,  13.,   8.,   8.,  31.,   8., 116.,   8.,\n        16.,   8.,   8.,  16.,   8.,  31.,   8.,  15.,   7., 115.,  59.,\n         8.,   8.,  59.,  59.,   8.,  14.,  32.,   8.,   8.,   8.,  31.,\n        32.,   8.,   8.,   8.,   8.,   8.,  30.,  30., 118.,   8.,   8.,\n         7.,  31.,   6.,   8.,  26.,  14.,  16.,   8.,  29.,  16.,  58.,\n         8.,  15.,   8.,   8.,  58.,  16.,  16., 111.,   8.,   8.,  15.,\n        29.,  16.,  16.,   8.,  15.,   8.,  32.,   8.,  15.,   8.,   8.,\n        16.,   8.,   8.,  14.,   7.,   8.,  16.,  56.,   8.,  31.,  16.,\n        32.,  29.,  15.,  15.,   8.,  58.,   8.,  15.,   7.,   8.,   7.,\n         8.,  24.,   8.,  51.,  30.,   8.,  57.,   5.,   8.,   8.,   8.,\n         7.,  31.,  16.,   8.,   8.,  31.,  16.,  32.,  15.,   7.,   7.,\n        14.,  16.,  15.,  16.,   8.,  60.,   8.,  58.,  16.,  29.,   8.,\n        29.,  15.,   8.,   8.,  16.,   8.,   8.,   8., 117.,  16.,   8.,\n         8.,  30.,   8.,   7.,  60.,   6.,  16.,   8.,  61.,   8.,   8.,\n        16.,   8.,  16.,  32.,   8.,   8.,   8.,  29.,   8.,  31.,  16.,\n         8.,  15.,   8.,  15.,  15.,   7.,  16.,   7.,  29.,  16.,   8.,\n        14.,   7.,  11.,   7.,   6., 119.,   8.,   8.,   8.,  16.,   8.,\n        16.,   8.,   7.,  16.,  31.,  16.,   8.,  32.,  31.,  31., 113.,\n         8.,  16.,  15.,  15.,  16.,  16.,   8.,   8.,   8.,   8.,  32.,\n         8.,  61.,   7.,  14.,  16.,   8., 117.,  15.,   8.])"
     },
     "metadata": {},
     "execution_count": 28
    }
   ],
   "source": [
    "q_train"
   ]
  },
  {
   "cell_type": "code",
   "execution_count": 29,
   "metadata": {},
   "outputs": [
    {
     "output_type": "execute_result",
     "data": {
      "text/plain": "9630.0"
     },
     "metadata": {},
     "execution_count": 29
    }
   ],
   "source": [
    "sum(q_train)"
   ]
  },
  {
   "cell_type": "code",
   "execution_count": 30,
   "metadata": {},
   "outputs": [
    {
     "output_type": "execute_result",
     "data": {
      "text/plain": "(9630, 46)"
     },
     "metadata": {},
     "execution_count": 30
    }
   ],
   "source": [
    "x_train.shape"
   ]
  },
  {
   "cell_type": "code",
   "execution_count": 31,
   "metadata": {},
   "outputs": [
    {
     "output_type": "stream",
     "name": "stdout",
     "text": "[1]\tvalid_0's ndcg@1: 0.545648\tvalid_0's ndcg@3: 0.646204\nTraining until validation scores don't improve for 20 rounds\n[2]\tvalid_0's ndcg@1: 0.641189\tvalid_0's ndcg@3: 0.67377\n[3]\tvalid_0's ndcg@1: 0.632696\tvalid_0's ndcg@3: 0.686982\n[4]\tvalid_0's ndcg@1: 0.630573\tvalid_0's ndcg@3: 0.682209\n[5]\tvalid_0's ndcg@1: 0.63482\tvalid_0's ndcg@3: 0.691415\n[6]\tvalid_0's ndcg@1: 0.639066\tvalid_0's ndcg@3: 0.691675\n[7]\tvalid_0's ndcg@1: 0.639066\tvalid_0's ndcg@3: 0.689515\n[8]\tvalid_0's ndcg@1: 0.632696\tvalid_0's ndcg@3: 0.687713\n[9]\tvalid_0's ndcg@1: 0.624204\tvalid_0's ndcg@3: 0.679523\n[10]\tvalid_0's ndcg@1: 0.590234\tvalid_0's ndcg@3: 0.672552\n[11]\tvalid_0's ndcg@1: 0.573248\tvalid_0's ndcg@3: 0.668197\n[12]\tvalid_0's ndcg@1: 0.592357\tvalid_0's ndcg@3: 0.671442\n[13]\tvalid_0's ndcg@1: 0.590234\tvalid_0's ndcg@3: 0.670107\n[14]\tvalid_0's ndcg@1: 0.600849\tvalid_0's ndcg@3: 0.671026\n[15]\tvalid_0's ndcg@1: 0.602972\tvalid_0's ndcg@3: 0.673608\n[16]\tvalid_0's ndcg@1: 0.590234\tvalid_0's ndcg@3: 0.671269\n[17]\tvalid_0's ndcg@1: 0.590234\tvalid_0's ndcg@3: 0.672273\n[18]\tvalid_0's ndcg@1: 0.590234\tvalid_0's ndcg@3: 0.671774\n[19]\tvalid_0's ndcg@1: 0.590234\tvalid_0's ndcg@3: 0.672189\n[20]\tvalid_0's ndcg@1: 0.590234\tvalid_0's ndcg@3: 0.669626\n[21]\tvalid_0's ndcg@1: 0.613588\tvalid_0's ndcg@3: 0.675193\n[22]\tvalid_0's ndcg@1: 0.609342\tvalid_0's ndcg@3: 0.675751\nEarly stopping, best iteration is:\n[2]\tvalid_0's ndcg@1: 0.641189\tvalid_0's ndcg@3: 0.67377\n"
    },
    {
     "output_type": "execute_result",
     "data": {
      "text/plain": "LGBMRanker(boosting_type='gbdt', class_weight=None, colsample_bytree=1.0,\n           importance_type='split', learning_rate=0.1, max_depth=-1,\n           min_child_samples=20, min_child_weight=0.001, min_split_gain=0.0,\n           n_estimators=100, n_jobs=-1, num_leaves=31, objective=None,\n           random_state=None, reg_alpha=0.0, reg_lambda=0.0, silent=True,\n           subsample=1.0, subsample_for_bin=200000, subsample_freq=0)"
     },
     "metadata": {},
     "execution_count": 31
    }
   ],
   "source": [
    "gbm = lgb.LGBMRanker()\n",
    "gbm.fit(x_train, y_train, group=q_train, eval_set=[(x_valid, y_valid)],\n",
    "eval_group=[q_valid], eval_at=[1, 3], early_stopping_rounds=20, verbose=True,\n",
    "callbacks=[lgb.reset_parameter(learning_rate=lambda x: 0.95 ** x * 0.1)])"
   ]
  },
  {
   "cell_type": "code",
   "execution_count": 32,
   "metadata": {},
   "outputs": [
    {
     "output_type": "execute_result",
     "data": {
      "text/plain": "array([ 0.14631787, -0.32150721, -0.00793422, ..., -0.24539755,\n       -0.28354248, -0.28354248])"
     },
     "metadata": {},
     "execution_count": 32
    }
   ],
   "source": [
    "preds_train = gbm.predict(x_train)\n",
    "preds_train"
   ]
  },
  {
   "cell_type": "code",
   "execution_count": 33,
   "metadata": {},
   "outputs": [
    {
     "output_type": "execute_result",
     "data": {
      "text/plain": "SpearmanrResult(correlation=0.3843555632065391, pvalue=0.0)"
     },
     "metadata": {},
     "execution_count": 33
    }
   ],
   "source": [
    "spearmanr(y_train, preds_train)"
   ]
  },
  {
   "cell_type": "code",
   "execution_count": 34,
   "metadata": {},
   "outputs": [
    {
     "output_type": "stream",
     "name": "stdout",
     "text": "[1]\tvalid_0's ndcg@1: 0\tvalid_0's ndcg@3: 0\nTraining until validation scores don't improve for 20 rounds\n[2]\tvalid_0's ndcg@1: 0\tvalid_0's ndcg@3: 0.098694\n[3]\tvalid_0's ndcg@1: 0\tvalid_0's ndcg@3: 0.0782131\n[4]\tvalid_0's ndcg@1: 0\tvalid_0's ndcg@3: 0.0782131\n[5]\tvalid_0's ndcg@1: 0\tvalid_0's ndcg@3: 0.0782131\n[6]\tvalid_0's ndcg@1: 0\tvalid_0's ndcg@3: 0.333333\n[7]\tvalid_0's ndcg@1: 0\tvalid_0's ndcg@3: 0.333333\n[8]\tvalid_0's ndcg@1: 0\tvalid_0's ndcg@3: 0.333333\n[9]\tvalid_0's ndcg@1: 0\tvalid_0's ndcg@3: 0.333333\n[10]\tvalid_0's ndcg@1: 0\tvalid_0's ndcg@3: 0.333333\n[11]\tvalid_0's ndcg@1: 0.333333\tvalid_0's ndcg@3: 0.687148\n[12]\tvalid_0's ndcg@1: 1\tvalid_0's ndcg@3: 0.843574\n[13]\tvalid_0's ndcg@1: 1\tvalid_0's ndcg@3: 0.843574\n[14]\tvalid_0's ndcg@1: 1\tvalid_0's ndcg@3: 0.843574\n[15]\tvalid_0's ndcg@1: 1\tvalid_0's ndcg@3: 0.843574\n[16]\tvalid_0's ndcg@1: 1\tvalid_0's ndcg@3: 0.843574\n[17]\tvalid_0's ndcg@1: 0.333333\tvalid_0's ndcg@3: 0.530721\n[18]\tvalid_0's ndcg@1: 0.333333\tvalid_0's ndcg@3: 0.530721\n[19]\tvalid_0's ndcg@1: 0.333333\tvalid_0's ndcg@3: 0.530721\n[20]\tvalid_0's ndcg@1: 0.333333\tvalid_0's ndcg@3: 0.530721\n[21]\tvalid_0's ndcg@1: 0.333333\tvalid_0's ndcg@3: 0.530721\n[22]\tvalid_0's ndcg@1: 0.333333\tvalid_0's ndcg@3: 0.530721\n[23]\tvalid_0's ndcg@1: 1\tvalid_0's ndcg@3: 0.802612\n[24]\tvalid_0's ndcg@1: 0.333333\tvalid_0's ndcg@3: 0.687148\n[25]\tvalid_0's ndcg@1: 0.333333\tvalid_0's ndcg@3: 0.687148\n[26]\tvalid_0's ndcg@1: 1\tvalid_0's ndcg@3: 1\n[27]\tvalid_0's ndcg@1: 1\tvalid_0's ndcg@3: 1\n[28]\tvalid_0's ndcg@1: 1\tvalid_0's ndcg@3: 1\n[29]\tvalid_0's ndcg@1: 1\tvalid_0's ndcg@3: 1\n[30]\tvalid_0's ndcg@1: 1\tvalid_0's ndcg@3: 0.646186\n[31]\tvalid_0's ndcg@1: 1\tvalid_0's ndcg@3: 0.646186\n[32]\tvalid_0's ndcg@1: 1\tvalid_0's ndcg@3: 0.646186\nEarly stopping, best iteration is:\n[12]\tvalid_0's ndcg@1: 1\tvalid_0's ndcg@3: 0.843574\n"
    },
    {
     "output_type": "execute_result",
     "data": {
      "text/plain": "LGBMRanker(boosting_type='gbdt', class_weight=None, colsample_bytree=1.0,\n           importance_type='split', learning_rate=0.1, max_depth=-1,\n           min_child_samples=20, min_child_weight=0.001, min_split_gain=0.0,\n           n_estimators=100, n_jobs=-1, num_leaves=31, objective=None,\n           random_state=None, reg_alpha=0.0, reg_lambda=0.0, silent=True,\n           subsample=1.0, subsample_for_bin=200000, subsample_freq=0)"
     },
     "metadata": {},
     "execution_count": 34
    }
   ],
   "source": [
    "q_train = [x_train.shape[0]]\n",
    "q_valid = [x_valid.shape[0]]\n",
    "q_test = [x_test.shape[0]]\n",
    "\n",
    "gbm = lgb.LGBMRanker()\n",
    "gbm.fit(x_train, y_train, group=q_train, eval_set=[(x_valid, y_valid)],\n",
    "eval_group=[q_valid], eval_at=[1, 3], early_stopping_rounds=20, verbose=True,\n",
    "callbacks=[lgb.reset_parameter(learning_rate=lambda x: 0.95 ** x * 0.1)])"
   ]
  },
  {
   "cell_type": "code",
   "execution_count": 35,
   "metadata": {},
   "outputs": [
    {
     "output_type": "execute_result",
     "data": {
      "text/plain": "array([ 0.09126622, -0.90011971, -0.21296091, ..., -0.91282023,\n       -1.04027268, -1.05699536])"
     },
     "metadata": {},
     "execution_count": 35
    }
   ],
   "source": [
    "preds_train = gbm.predict(x_train)\n",
    "preds_train"
   ]
  },
  {
   "cell_type": "code",
   "execution_count": 36,
   "metadata": {},
   "outputs": [
    {
     "output_type": "execute_result",
     "data": {
      "text/plain": "SpearmanrResult(correlation=0.4481291965266587, pvalue=0.0)"
     },
     "metadata": {},
     "execution_count": 36
    }
   ],
   "source": [
    "spearmanr(y_train, preds_train)"
   ]
  }
 ],
 "metadata": {
  "kernelspec": {
   "display_name": "Python 3",
   "language": "python",
   "name": "python3"
  },
  "language_info": {
   "codemirror_mode": {
    "name": "ipython",
    "version": 3
   },
   "file_extension": ".py",
   "mimetype": "text/x-python",
   "name": "python",
   "nbconvert_exporter": "python",
   "pygments_lexer": "ipython3",
   "version": "3.6.9-final"
  }
 },
 "nbformat": 4,
 "nbformat_minor": 4
}